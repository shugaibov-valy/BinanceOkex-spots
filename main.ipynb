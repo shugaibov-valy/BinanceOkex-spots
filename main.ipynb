{
 "cells": [
  {
   "cell_type": "code",
   "execution_count": 139,
   "id": "photographic-turner",
   "metadata": {},
   "outputs": [],
   "source": [
    "import bs4\n",
    "import requests"
   ]
  },
  {
   "cell_type": "code",
   "execution_count": 140,
   "id": "romantic-metabolism",
   "metadata": {},
   "outputs": [],
   "source": [
    "headers = requests.utils.default_headers()\n",
    "headers.update({ 'User-Agent': 'Mozilla/5.0 (X11; Ubuntu; Linux x86_64; rv:52.0) Gecko/20100101 Firefox/69.0'})"
   ]
  },
  {
   "cell_type": "markdown",
   "id": "single-albert",
   "metadata": {},
   "source": [
    "## Binance"
   ]
  },
  {
   "cell_type": "code",
   "execution_count": 141,
   "id": "atmospheric-audio",
   "metadata": {},
   "outputs": [],
   "source": [
    "\n",
    "url = \"https://api.binance.com/api/v1/ticker/24hr\"\n",
    "data = requests.get(url).json()\n",
    "\n",
    "binance_dict = {}\n",
    "for currency in data:\n",
    "        name = currency['symbol']\n",
    "        price = currency['lastPrice']\n",
    "        volume = currency['volume']\n",
    "        binance_dict[name] = [price, volume]    # binance_dict[name] = {цена, объем} "
   ]
  },
  {
   "cell_type": "markdown",
   "id": "private-massachusetts",
   "metadata": {},
   "source": [
    "## Okex"
   ]
  },
  {
   "cell_type": "code",
   "execution_count": 142,
   "id": "tamil-czech",
   "metadata": {},
   "outputs": [],
   "source": [
    "url = \"https://okex.com/api/spot/v3/instruments/ticker/\"\n",
    "response = requests.get(url)\n",
    "data = response.json()\n",
    "okex_dict = {}\n",
    "for currency in data:\n",
    "    name = currency['instrument_id'].replace('-', '')  # убираем '-'\n",
    "    price = currency['ask']\n",
    "    volume = currency['base_volume_24h']\n",
    "    okex_dict[name] = [price, volume]     # okex_dict[name] = {цена, объем}"
   ]
  },
  {
   "cell_type": "code",
   "execution_count": 143,
   "id": "smart-banking",
   "metadata": {},
   "outputs": [],
   "source": [
    "ls1 = list(binance_dict.keys())   # списки названий инструментов каждой биржы\n",
    "ls2 = list(okex_dict.keys())"
   ]
  },
  {
   "cell_type": "code",
   "execution_count": 144,
   "id": "invalid-begin",
   "metadata": {
    "scrolled": false
   },
   "outputs": [],
   "source": [
    "all_names = set(ls1 + ls2)   # все неповторяющиеся названия интструментов"
   ]
  },
  {
   "cell_type": "markdown",
   "id": "injured-sensitivity",
   "metadata": {},
   "source": [
    "### DataFrame создаем"
   ]
  },
  {
   "cell_type": "code",
   "execution_count": 145,
   "id": "advisory-scroll",
   "metadata": {},
   "outputs": [],
   "source": [
    "import pandas as pd\n",
    "import numpy as np\n",
    "unify_name = pd.Series([name for name in all_names])\n",
    "binance_name = pd.Series([f'{price}$/{volume}' for name in all_names for price, volume in [binance_dict.get(name, ['-', '-'])]])\n",
    "okex_name = pd.Series([f'{price}$/{volume}' for name in all_names for price, volume in [okex_dict.get(name, ['-', '-'])]])\n",
    "\n",
    "### Сливаем все Серии вместе\n",
    "Data = pd.DataFrame([unify_name, binance_name, okex_name]).T\n",
    "Data.columns = ['unify_name', 'binance_name', 'okex_name']"
   ]
  },
  {
   "cell_type": "code",
   "execution_count": 146,
   "id": "threatened-insider",
   "metadata": {},
   "outputs": [
    {
     "data": {
      "text/html": [
       "<div>\n",
       "<style scoped>\n",
       "    .dataframe tbody tr th:only-of-type {\n",
       "        vertical-align: middle;\n",
       "    }\n",
       "\n",
       "    .dataframe tbody tr th {\n",
       "        vertical-align: top;\n",
       "    }\n",
       "\n",
       "    .dataframe thead th {\n",
       "        text-align: right;\n",
       "    }\n",
       "</style>\n",
       "<table border=\"1\" class=\"dataframe\">\n",
       "  <thead>\n",
       "    <tr style=\"text-align: right;\">\n",
       "      <th></th>\n",
       "      <th>unify_name</th>\n",
       "      <th>binance_name</th>\n",
       "      <th>okex_name</th>\n",
       "    </tr>\n",
       "  </thead>\n",
       "  <tbody>\n",
       "    <tr>\n",
       "      <th>0</th>\n",
       "      <td>1INCHBTC</td>\n",
       "      <td>0.00005775$/1684890.90000000</td>\n",
       "      <td>-$/-</td>\n",
       "    </tr>\n",
       "    <tr>\n",
       "      <th>1</th>\n",
       "      <td>1INCHBUSD</td>\n",
       "      <td>2.18750000$/1479828.61000000</td>\n",
       "      <td>-$/-</td>\n",
       "    </tr>\n",
       "    <tr>\n",
       "      <th>2</th>\n",
       "      <td>1INCHDOWNUSDT</td>\n",
       "      <td>0.31430000$/7679457.31000000</td>\n",
       "      <td>-$/-</td>\n",
       "    </tr>\n",
       "    <tr>\n",
       "      <th>3</th>\n",
       "      <td>1INCHETH</td>\n",
       "      <td>-$/-</td>\n",
       "      <td>0.000946$/27307.11051512</td>\n",
       "    </tr>\n",
       "    <tr>\n",
       "      <th>4</th>\n",
       "      <td>1INCHUPUSDT</td>\n",
       "      <td>0.03322200$/113622142.05000000</td>\n",
       "      <td>-$/-</td>\n",
       "    </tr>\n",
       "    <tr>\n",
       "      <th>...</th>\n",
       "      <td>...</td>\n",
       "      <td>...</td>\n",
       "      <td>...</td>\n",
       "    </tr>\n",
       "    <tr>\n",
       "      <th>1771</th>\n",
       "      <td>ZRXBTC</td>\n",
       "      <td>0.00001826$/1496458.00000000</td>\n",
       "      <td>0.0000183$/1615263.488</td>\n",
       "    </tr>\n",
       "    <tr>\n",
       "      <th>1772</th>\n",
       "      <td>ZRXBUSD</td>\n",
       "      <td>0.69190000$/561186.97000000</td>\n",
       "      <td>-$/-</td>\n",
       "    </tr>\n",
       "    <tr>\n",
       "      <th>1773</th>\n",
       "      <td>ZRXETH</td>\n",
       "      <td>0.00029970$/117611.00000000</td>\n",
       "      <td>0.0003$/254783.466</td>\n",
       "    </tr>\n",
       "    <tr>\n",
       "      <th>1774</th>\n",
       "      <td>ZRXUSDT</td>\n",
       "      <td>0.69250000$/6435486.51000000</td>\n",
       "      <td>0.693$/5101895.603918</td>\n",
       "    </tr>\n",
       "    <tr>\n",
       "      <th>1775</th>\n",
       "      <td>ZYROUSDT</td>\n",
       "      <td>-$/-</td>\n",
       "      <td>0.0109$/1531824.494784</td>\n",
       "    </tr>\n",
       "  </tbody>\n",
       "</table>\n",
       "<p>1776 rows × 3 columns</p>\n",
       "</div>"
      ],
      "text/plain": [
       "         unify_name                    binance_name                 okex_name\n",
       "0          1INCHBTC    0.00005775$/1684890.90000000                      -$/-\n",
       "1         1INCHBUSD    2.18750000$/1479828.61000000                      -$/-\n",
       "2     1INCHDOWNUSDT    0.31430000$/7679457.31000000                      -$/-\n",
       "3          1INCHETH                            -$/-  0.000946$/27307.11051512\n",
       "4       1INCHUPUSDT  0.03322200$/113622142.05000000                      -$/-\n",
       "...             ...                             ...                       ...\n",
       "1771         ZRXBTC    0.00001826$/1496458.00000000    0.0000183$/1615263.488\n",
       "1772        ZRXBUSD     0.69190000$/561186.97000000                      -$/-\n",
       "1773         ZRXETH     0.00029970$/117611.00000000        0.0003$/254783.466\n",
       "1774        ZRXUSDT    0.69250000$/6435486.51000000     0.693$/5101895.603918\n",
       "1775       ZYROUSDT                            -$/-    0.0109$/1531824.494784\n",
       "\n",
       "[1776 rows x 3 columns]"
      ]
     },
     "execution_count": 146,
     "metadata": {},
     "output_type": "execute_result"
    }
   ],
   "source": [
    "Data.sort_values(by='unify_name', ignore_index=True)  ### сортировка по Unify_name"
   ]
  },
  {
   "cell_type": "code",
   "execution_count": null,
   "id": "provincial-police",
   "metadata": {},
   "outputs": [],
   "source": []
  }
 ],
 "metadata": {
  "kernelspec": {
   "display_name": "Python 3",
   "language": "python",
   "name": "python3"
  },
  "language_info": {
   "codemirror_mode": {
    "name": "ipython",
    "version": 3
   },
   "file_extension": ".py",
   "mimetype": "text/x-python",
   "name": "python",
   "nbconvert_exporter": "python",
   "pygments_lexer": "ipython3",
   "version": "3.9.2"
  }
 },
 "nbformat": 4,
 "nbformat_minor": 5
}
